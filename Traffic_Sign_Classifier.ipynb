{
 "cells": [
  {
   "cell_type": "markdown",
   "metadata": {},
   "source": [
    "## Loading the libraries"
   ]
  },
  {
   "cell_type": "code",
   "execution_count": 1,
   "metadata": {},
   "outputs": [
    {
     "name": "stderr",
     "output_type": "stream",
     "text": [
      "Using TensorFlow backend.\n"
     ]
    }
   ],
   "source": [
    "import numpy as np\n",
    "import pandas as pd\n",
    "import matplotlib.pyplot as plt\n",
    "import tensorflow as tf\n",
    "from PIL import Image\n",
    "import os\n",
    "from sklearn.model_selection import train_test_split\n",
    "from keras.utils import to_categorical\n",
    "from keras.models import Sequential\n",
    "from keras.layers import Conv2D, MaxPool2D, Dense, Flatten, Dropout"
   ]
  },
  {
   "cell_type": "markdown",
   "metadata": {},
   "source": [
    "## Exploring the dataset"
   ]
  },
  {
   "cell_type": "code",
   "execution_count": 2,
   "metadata": {},
   "outputs": [],
   "source": [
    "data = [] \n",
    "labels = [] \n",
    "classes = 43\n",
    "cur_path = os.getcwd()\n",
    "\n",
    "for i in range(classes):\n",
    "    path = os.path.join(cur_path,'Train',str(i))\n",
    "    images = os.listdir(path)\n",
    "    \n",
    "    for a in images:\n",
    "        try:\n",
    "            image = Image.open(path + '\\\\'+ a)\n",
    "            image = image.resize((30,30))\n",
    "            image = np.array(image)\n",
    "            data.append(image)\n",
    "            labels.append(i)\n",
    "        except:\n",
    "            print(\"Error:Image Not Loaded\")\n",
    "\n",
    "data = np.array(data)\n",
    "labels = np.array(labels)"
   ]
  },
  {
   "cell_type": "markdown",
   "metadata": {},
   "source": [
    "## Splitting the dataset into training and testing"
   ]
  },
  {
   "cell_type": "code",
   "execution_count": 3,
   "metadata": {},
   "outputs": [
    {
     "name": "stdout",
     "output_type": "stream",
     "text": [
      "(39209, 30, 30, 3) (39209,)\n",
      "(31367, 30, 30, 3) (7842, 30, 30, 3) (31367,) (7842,)\n"
     ]
    }
   ],
   "source": [
    "print(data.shape,labels.shape)\n",
    "X_train, X_test, y_train,y_test = train_test_split(data,labels,test_size=0.2,random_state=42)\n",
    "\n",
    "print(X_train.shape, X_test.shape, y_train.shape,y_test.shape)\n",
    "\n",
    "y_train = to_categorical(y_train,43)\n",
    "y_test = to_categorical(y_test,43)"
   ]
  },
  {
   "cell_type": "markdown",
   "metadata": {},
   "source": [
    "## Building the CNN Model"
   ]
  },
  {
   "cell_type": "code",
   "execution_count": 8,
   "metadata": {},
   "outputs": [
    {
     "name": "stderr",
     "output_type": "stream",
     "text": [
      "W1210 13:04:15.195527  7860 deprecation_wrapper.py:119] From H:\\Anaconda\\lib\\site-packages\\keras\\optimizers.py:790: The name tf.train.Optimizer is deprecated. Please use tf.compat.v1.train.Optimizer instead.\n",
      "\n",
      "W1210 13:04:15.242399  7860 deprecation_wrapper.py:119] From H:\\Anaconda\\lib\\site-packages\\keras\\backend\\tensorflow_backend.py:3295: The name tf.log is deprecated. Please use tf.math.log instead.\n",
      "\n"
     ]
    }
   ],
   "source": [
    "model = Sequential()\n",
    "model.add(Conv2D(filters=32, kernel_size=(5,5), activation='relu', input_shape=X_train.shape[1:]))\n",
    "model.add(Conv2D(filters=32, kernel_size=(5,5), activation='relu'))\n",
    "model.add(MaxPool2D(pool_size=(2,2)))\n",
    "model.add(Dropout(rate=0.25))\n",
    "model.add(Conv2D(filters=64, kernel_size=(3,3),activation='relu'))\n",
    "model.add(Conv2D(filters=64, kernel_size=(3,3),activation='relu'))\n",
    "model.add(MaxPool2D(pool_size=(2,2)))\n",
    "model.add(Dropout(rate=0.25))\n",
    "model.add(Flatten())\n",
    "model.add(Dense(256, activation='relu'))\n",
    "model.add(Dropout(rate=0.5))\n",
    "model.add(Dense(43, activation='softmax'))\n",
    "\n",
    "#Compiling the model with adam optimizer\n",
    "model.compile(loss='categorical_crossentropy',optimizer='adam',metrics=['accuracy'])"
   ]
  },
  {
   "cell_type": "markdown",
   "metadata": {},
   "source": [
    "## Training and Validating the model"
   ]
  },
  {
   "cell_type": "code",
   "execution_count": 9,
   "metadata": {},
   "outputs": [
    {
     "name": "stderr",
     "output_type": "stream",
     "text": [
      "W1210 13:05:47.243101  7860 deprecation.py:323] From H:\\Anaconda\\lib\\site-packages\\tensorflow\\python\\ops\\math_grad.py:1250: add_dispatch_support.<locals>.wrapper (from tensorflow.python.ops.array_ops) is deprecated and will be removed in a future version.\n",
      "Instructions for updating:\n",
      "Use tf.where in 2.0, which has the same broadcast rule as np.where\n"
     ]
    },
    {
     "name": "stdout",
     "output_type": "stream",
     "text": [
      "Train on 31367 samples, validate on 7842 samples\n",
      "Epoch 1/15\n",
      "31367/31367 [==============================] - 130s 4ms/step - loss: 2.1595 - acc: 0.4681 - val_loss: 0.6048 - val_acc: 0.8592\n",
      "Epoch 2/15\n",
      "31367/31367 [==============================] - 125s 4ms/step - loss: 0.6814 - acc: 0.7956 - val_loss: 0.2521 - val_acc: 0.9361\n",
      "Epoch 3/15\n",
      "31367/31367 [==============================] - 125s 4ms/step - loss: 0.4319 - acc: 0.8689 - val_loss: 0.1342 - val_acc: 0.9661\n",
      "Epoch 4/15\n",
      "31367/31367 [==============================] - 126s 4ms/step - loss: 0.3239 - acc: 0.9016 - val_loss: 0.1689 - val_acc: 0.9565\n",
      "Epoch 5/15\n",
      "31367/31367 [==============================] - 125s 4ms/step - loss: 0.2649 - acc: 0.9218 - val_loss: 0.0862 - val_acc: 0.9759\n",
      "Epoch 6/15\n",
      "31367/31367 [==============================] - 126s 4ms/step - loss: 0.2353 - acc: 0.9305 - val_loss: 0.0769 - val_acc: 0.9786\n",
      "Epoch 7/15\n",
      "31367/31367 [==============================] - 126s 4ms/step - loss: 0.2099 - acc: 0.9400 - val_loss: 0.0839 - val_acc: 0.9791\n",
      "Epoch 8/15\n",
      "31367/31367 [==============================] - 125s 4ms/step - loss: 0.2060 - acc: 0.9412 - val_loss: 0.0736 - val_acc: 0.9786\n",
      "Epoch 9/15\n",
      "31367/31367 [==============================] - 125s 4ms/step - loss: 0.1924 - acc: 0.9440 - val_loss: 0.0491 - val_acc: 0.9848\n",
      "Epoch 10/15\n",
      "31367/31367 [==============================] - 125s 4ms/step - loss: 0.1798 - acc: 0.9494 - val_loss: 0.0671 - val_acc: 0.9810\n",
      "Epoch 11/15\n",
      "31367/31367 [==============================] - 124s 4ms/step - loss: 0.1831 - acc: 0.9506 - val_loss: 0.0960 - val_acc: 0.9711\n",
      "Epoch 12/15\n",
      "31367/31367 [==============================] - 124s 4ms/step - loss: 0.1770 - acc: 0.9492 - val_loss: 0.0663 - val_acc: 0.9806\n",
      "Epoch 13/15\n",
      "31367/31367 [==============================] - 125s 4ms/step - loss: 0.1729 - acc: 0.9524 - val_loss: 0.0557 - val_acc: 0.9852\n",
      "Epoch 14/15\n",
      "31367/31367 [==============================] - 125s 4ms/step - loss: 0.1764 - acc: 0.9527 - val_loss: 0.0432 - val_acc: 0.9878\n",
      "Epoch 15/15\n",
      "31367/31367 [==============================] - 124s 4ms/step - loss: 0.1818 - acc: 0.9517 - val_loss: 0.0598 - val_acc: 0.9830\n"
     ]
    }
   ],
   "source": [
    "epochs = 15\n",
    "\n",
    "history = model.fit(X_train, y_train, batch_size=64, epochs=epochs, validation_data=(X_test,y_test))"
   ]
  },
  {
   "cell_type": "markdown",
   "metadata": {},
   "source": [
    "**The model has resulted in an accuracy of 98% on the training dataset**"
   ]
  },
  {
   "cell_type": "markdown",
   "metadata": {},
   "source": [
    "### Testing the model with test dataset"
   ]
  },
  {
   "cell_type": "code",
   "execution_count": 13,
   "metadata": {},
   "outputs": [
    {
     "data": {
      "text/plain": [
       "0.9535233570863024"
      ]
     },
     "execution_count": 13,
     "metadata": {},
     "output_type": "execute_result"
    }
   ],
   "source": [
    "from sklearn.metrics import accuracy_score\n",
    "import pandas as pd\n",
    "y_test = pd.read_csv('Test.csv')\n",
    "\n",
    "labels = y_test[\"ClassId\"].values\n",
    "imgs = y_test[\"Path\"].values\n",
    "\n",
    "data=[]\n",
    "\n",
    "for img in imgs:\n",
    "    image = Image.open(img)\n",
    "    image = image.resize((30,30))\n",
    "    data.append(np.array(image))\n",
    "    \n",
    "X_test = np.array(data)\n",
    "\n",
    "pred = model.predict_classes(X_test)\n",
    "\n",
    "#Accuracy with test data\n",
    "from sklearn.metrics import accuracy_score\n",
    "accuracy_score(labels,pred)"
   ]
  },
  {
   "cell_type": "markdown",
   "metadata": {},
   "source": [
    "## Saving the model"
   ]
  },
  {
   "cell_type": "code",
   "execution_count": 14,
   "metadata": {},
   "outputs": [],
   "source": [
    "model.save('traffic_classifier.h5')"
   ]
  },
  {
   "cell_type": "code",
   "execution_count": null,
   "metadata": {},
   "outputs": [],
   "source": []
  }
 ],
 "metadata": {
  "kernelspec": {
   "display_name": "Python 3",
   "language": "python",
   "name": "python3"
  },
  "language_info": {
   "codemirror_mode": {
    "name": "ipython",
    "version": 3
   },
   "file_extension": ".py",
   "mimetype": "text/x-python",
   "name": "python",
   "nbconvert_exporter": "python",
   "pygments_lexer": "ipython3",
   "version": "3.7.3"
  }
 },
 "nbformat": 4,
 "nbformat_minor": 2
}
